{
 "cells": [
  {
   "cell_type": "code",
   "execution_count": null,
   "metadata": {},
   "outputs": [],
   "source": [
    "#Dawit Reda\n",
    "#ID#10189420\n",
    "#MCIS 540 - Project\n",
    "#Programming for the Data Science\n",
    "#Submitted to Dr. Daniel Wu"
   ]
  },
  {
   "cell_type": "markdown",
   "metadata": {},
   "source": [
    "# MCIS 540 - Project"
   ]
  },
  {
   "cell_type": "code",
   "execution_count": 64,
   "metadata": {},
   "outputs": [],
   "source": [
    "#This project performs data cleaning, processing and analysis for the state of Pennsylvania counties poverty data collected by\n",
    "#the 2016 U.S. census."
   ]
  },
  {
   "cell_type": "code",
   "execution_count": 65,
   "metadata": {},
   "outputs": [],
   "source": [
    "#import all important libraries \n",
    "from tabulate import tabulate\n",
    "import numpy as np\n",
    "import pandas as pd\n",
    "import matplotlib.pyplot as plt\n",
    "import seaborn as sns"
   ]
  },
  {
   "cell_type": "code",
   "execution_count": 66,
   "metadata": {},
   "outputs": [
    {
     "data": {
      "text/plain": [
       "'\\nFind the county with the highest percentage of children in poverty and print its name,\\npercentage, count of children in poverty and the median household income.\\nEach print specified above will print the same data so create a print_data\\n'"
      ]
     },
     "execution_count": 66,
     "metadata": {},
     "output_type": "execute_result"
    }
   ],
   "source": [
    "'''\n",
    "Find the county with the highest percentage of children in poverty and print its name,\n",
    "percentage, count of children in poverty and the median household income.\n",
    "Each print specified above will print the same data so create a print_data\n",
    "'''"
   ]
  },
  {
   "cell_type": "code",
   "execution_count": 67,
   "metadata": {},
   "outputs": [
    {
     "data": {
      "text/html": [
       "<div>\n",
       "<style scoped>\n",
       "    .dataframe tbody tr th:only-of-type {\n",
       "        vertical-align: middle;\n",
       "    }\n",
       "\n",
       "    .dataframe tbody tr th {\n",
       "        vertical-align: top;\n",
       "    }\n",
       "\n",
       "    .dataframe thead th {\n",
       "        text-align: right;\n",
       "    }\n",
       "</style>\n",
       "<table border=\"1\" class=\"dataframe\">\n",
       "  <thead>\n",
       "    <tr style=\"text-align: right;\">\n",
       "      <th></th>\n",
       "      <th>State FIPS Code</th>\n",
       "      <th>County FIPS Code</th>\n",
       "      <th>Postal Code</th>\n",
       "      <th>Name</th>\n",
       "      <th>Poverty Estimate, All Ages</th>\n",
       "      <th>90% CI Lower Bound</th>\n",
       "      <th>90% CI Upper Bound</th>\n",
       "      <th>Poverty Percent, All Ages</th>\n",
       "      <th>90% CI Lower Bound.1</th>\n",
       "      <th>90% CI Upper Bound.1</th>\n",
       "      <th>...</th>\n",
       "      <th>90% CI Upper Bound.5</th>\n",
       "      <th>Median Household Income</th>\n",
       "      <th>90% CI Lower Bound.6</th>\n",
       "      <th>90% CI Upper Bound.6</th>\n",
       "      <th>Poverty Estimate, Age 0-4</th>\n",
       "      <th>90% CI Lower Bound.7</th>\n",
       "      <th>90% CI Upper Bound.7</th>\n",
       "      <th>Poverty Percent, Age 0-4</th>\n",
       "      <th>90% CI Lower Bound.8</th>\n",
       "      <th>90% CI Upper Bound.8</th>\n",
       "    </tr>\n",
       "  </thead>\n",
       "  <tbody>\n",
       "    <tr>\n",
       "      <th>2284</th>\n",
       "      <td>42</td>\n",
       "      <td>1</td>\n",
       "      <td>PA</td>\n",
       "      <td>Adams County</td>\n",
       "      <td>9218</td>\n",
       "      <td>7624</td>\n",
       "      <td>10812</td>\n",
       "      <td>9.4</td>\n",
       "      <td>7.8</td>\n",
       "      <td>11</td>\n",
       "      <td>...</td>\n",
       "      <td>15.6</td>\n",
       "      <td>59645</td>\n",
       "      <td>55921</td>\n",
       "      <td>63369</td>\n",
       "      <td>.</td>\n",
       "      <td>.</td>\n",
       "      <td>.</td>\n",
       "      <td>.</td>\n",
       "      <td>.</td>\n",
       "      <td>.</td>\n",
       "    </tr>\n",
       "    <tr>\n",
       "      <th>2285</th>\n",
       "      <td>42</td>\n",
       "      <td>3</td>\n",
       "      <td>PA</td>\n",
       "      <td>Allegheny County</td>\n",
       "      <td>137017</td>\n",
       "      <td>128609</td>\n",
       "      <td>145425</td>\n",
       "      <td>11.5</td>\n",
       "      <td>10.8</td>\n",
       "      <td>12.2</td>\n",
       "      <td>...</td>\n",
       "      <td>15.5</td>\n",
       "      <td>56099</td>\n",
       "      <td>54991</td>\n",
       "      <td>57207</td>\n",
       "      <td>.</td>\n",
       "      <td>.</td>\n",
       "      <td>.</td>\n",
       "      <td>.</td>\n",
       "      <td>.</td>\n",
       "      <td>.</td>\n",
       "    </tr>\n",
       "    <tr>\n",
       "      <th>2286</th>\n",
       "      <td>42</td>\n",
       "      <td>5</td>\n",
       "      <td>PA</td>\n",
       "      <td>Armstrong County</td>\n",
       "      <td>9100</td>\n",
       "      <td>7778</td>\n",
       "      <td>10422</td>\n",
       "      <td>13.8</td>\n",
       "      <td>11.8</td>\n",
       "      <td>15.8</td>\n",
       "      <td>...</td>\n",
       "      <td>21.6</td>\n",
       "      <td>46968</td>\n",
       "      <td>44040</td>\n",
       "      <td>49896</td>\n",
       "      <td>.</td>\n",
       "      <td>.</td>\n",
       "      <td>.</td>\n",
       "      <td>.</td>\n",
       "      <td>.</td>\n",
       "      <td>.</td>\n",
       "    </tr>\n",
       "    <tr>\n",
       "      <th>2287</th>\n",
       "      <td>42</td>\n",
       "      <td>7</td>\n",
       "      <td>PA</td>\n",
       "      <td>Beaver County</td>\n",
       "      <td>15998</td>\n",
       "      <td>12958</td>\n",
       "      <td>19038</td>\n",
       "      <td>9.7</td>\n",
       "      <td>7.9</td>\n",
       "      <td>11.5</td>\n",
       "      <td>...</td>\n",
       "      <td>17.3</td>\n",
       "      <td>54715</td>\n",
       "      <td>52621</td>\n",
       "      <td>56809</td>\n",
       "      <td>.</td>\n",
       "      <td>.</td>\n",
       "      <td>.</td>\n",
       "      <td>.</td>\n",
       "      <td>.</td>\n",
       "      <td>.</td>\n",
       "    </tr>\n",
       "    <tr>\n",
       "      <th>2288</th>\n",
       "      <td>42</td>\n",
       "      <td>9</td>\n",
       "      <td>PA</td>\n",
       "      <td>Bedford County</td>\n",
       "      <td>6550</td>\n",
       "      <td>5607</td>\n",
       "      <td>7493</td>\n",
       "      <td>13.7</td>\n",
       "      <td>11.7</td>\n",
       "      <td>15.7</td>\n",
       "      <td>...</td>\n",
       "      <td>19.7</td>\n",
       "      <td>44834</td>\n",
       "      <td>41428</td>\n",
       "      <td>48240</td>\n",
       "      <td>.</td>\n",
       "      <td>.</td>\n",
       "      <td>.</td>\n",
       "      <td>.</td>\n",
       "      <td>.</td>\n",
       "      <td>.</td>\n",
       "    </tr>\n",
       "  </tbody>\n",
       "</table>\n",
       "<p>5 rows × 31 columns</p>\n",
       "</div>"
      ],
      "text/plain": [
       "      State FIPS Code  County FIPS Code Postal Code              Name  \\\n",
       "2284               42                 1          PA      Adams County   \n",
       "2285               42                 3          PA  Allegheny County   \n",
       "2286               42                 5          PA  Armstrong County   \n",
       "2287               42                 7          PA     Beaver County   \n",
       "2288               42                 9          PA    Bedford County   \n",
       "\n",
       "     Poverty Estimate, All Ages 90% CI Lower Bound 90% CI Upper Bound  \\\n",
       "2284                       9218               7624              10812   \n",
       "2285                     137017             128609             145425   \n",
       "2286                       9100               7778              10422   \n",
       "2287                      15998              12958              19038   \n",
       "2288                       6550               5607               7493   \n",
       "\n",
       "     Poverty Percent, All Ages 90% CI Lower Bound.1 90% CI Upper Bound.1  \\\n",
       "2284                       9.4                  7.8                   11   \n",
       "2285                      11.5                 10.8                 12.2   \n",
       "2286                      13.8                 11.8                 15.8   \n",
       "2287                       9.7                  7.9                 11.5   \n",
       "2288                      13.7                 11.7                 15.7   \n",
       "\n",
       "             ...          90% CI Upper Bound.5 Median Household Income  \\\n",
       "2284         ...                          15.6                   59645   \n",
       "2285         ...                          15.5                   56099   \n",
       "2286         ...                          21.6                   46968   \n",
       "2287         ...                          17.3                   54715   \n",
       "2288         ...                          19.7                   44834   \n",
       "\n",
       "     90% CI Lower Bound.6 90% CI Upper Bound.6 Poverty Estimate, Age 0-4  \\\n",
       "2284                55921                63369                         .   \n",
       "2285                54991                57207                         .   \n",
       "2286                44040                49896                         .   \n",
       "2287                52621                56809                         .   \n",
       "2288                41428                48240                         .   \n",
       "\n",
       "     90% CI Lower Bound.7 90% CI Upper Bound.7 Poverty Percent, Age 0-4  \\\n",
       "2284                    .                    .                        .   \n",
       "2285                    .                    .                        .   \n",
       "2286                    .                    .                        .   \n",
       "2287                    .                    .                        .   \n",
       "2288                    .                    .                        .   \n",
       "\n",
       "     90% CI Lower Bound.8 90% CI Upper Bound.8  \n",
       "2284                    .                    .  \n",
       "2285                    .                    .  \n",
       "2286                    .                    .  \n",
       "2287                    .                    .  \n",
       "2288                    .                    .  \n",
       "\n",
       "[5 rows x 31 columns]"
      ]
     },
     "execution_count": 67,
     "metadata": {},
     "output_type": "execute_result"
    }
   ],
   "source": [
    "def print_data():\n",
    "    #file path url\n",
    "    url = 'https://www2.census.gov/programs-surveys/saipe/datasets/2016/2016-state-and-county/est16all.xls'\n",
    "    # Load the data into a dataframe\n",
    "    df = pd.read_excel(url, skiprows=2, index_col=None,  header=1) \n",
    "    #filter for PA only with Postal Code == 'PA'\n",
    "    df_PA = df['Postal Code']=='PA' \n",
    "    df = df[df_PA]\n",
    "    #remove the first row \n",
    "    df= df.iloc[1:]\n",
    "    return df\n",
    "print_data().head()"
   ]
  },
  {
   "cell_type": "code",
   "execution_count": 68,
   "metadata": {},
   "outputs": [
    {
     "data": {
      "text/plain": [
       "'\\nFind the county with the highest percentage of children in poverty and print its name,\\npercentage, count of children in poverty and the median household income.\\nCreate a function for the highest percentage data: print_highest_data\\n'"
      ]
     },
     "execution_count": 68,
     "metadata": {},
     "output_type": "execute_result"
    }
   ],
   "source": [
    "'''\n",
    "Find the county with the highest percentage of children in poverty and print its name,\n",
    "percentage, count of children in poverty and the median household income.\n",
    "Create a function for the highest percentage data: print_highest_data\n",
    "'''"
   ]
  },
  {
   "cell_type": "code",
   "execution_count": 69,
   "metadata": {},
   "outputs": [
    {
     "data": {
      "text/html": [
       "<div>\n",
       "<style scoped>\n",
       "    .dataframe tbody tr th:only-of-type {\n",
       "        vertical-align: middle;\n",
       "    }\n",
       "\n",
       "    .dataframe tbody tr th {\n",
       "        vertical-align: top;\n",
       "    }\n",
       "\n",
       "    .dataframe thead th {\n",
       "        text-align: right;\n",
       "    }\n",
       "</style>\n",
       "<table border=\"1\" class=\"dataframe\">\n",
       "  <thead>\n",
       "    <tr style=\"text-align: right;\">\n",
       "      <th></th>\n",
       "      <th>Name</th>\n",
       "      <th>Poverty Percent, Age 0-17</th>\n",
       "      <th>Poverty Estimate, Age 0-17</th>\n",
       "      <th>Median Household Income</th>\n",
       "    </tr>\n",
       "  </thead>\n",
       "  <tbody>\n",
       "    <tr>\n",
       "      <th>2310</th>\n",
       "      <td>Forest County</td>\n",
       "      <td>57.1</td>\n",
       "      <td>124</td>\n",
       "      <td>38819</td>\n",
       "    </tr>\n",
       "  </tbody>\n",
       "</table>\n",
       "</div>"
      ],
      "text/plain": [
       "               Name Poverty Percent, Age 0-17 Poverty Estimate, Age 0-17  \\\n",
       "2310  Forest County                      57.1                        124   \n",
       "\n",
       "     Median Household Income  \n",
       "2310                   38819  "
      ]
     },
     "execution_count": 69,
     "metadata": {},
     "output_type": "execute_result"
    }
   ],
   "source": [
    "#Create a function for the highest percentage data: print_highest_data\n",
    "def print_highest_data():\n",
    "    highest_data = print_data()\n",
    "    #get the hight poverity out Poverty Percent, Age 0-17 column\n",
    "    max_poverity = highest_data[highest_data['Poverty Percent, Age 0-17'] == highest_data['Poverty Percent, Age 0-17'].max()]\n",
    "    return max_poverity[['Name','Poverty Percent, Age 0-17','Poverty Estimate, Age 0-17','Median Household Income']]\n",
    "print_highest_data()"
   ]
  },
  {
   "cell_type": "code",
   "execution_count": null,
   "metadata": {},
   "outputs": [],
   "source": [
    "'''\n",
    "Find the county with the lowest percentage of children in poverty and print its name,\n",
    "percentage, count of children in poverty and the median household income\n",
    "Create a function for the lowest percentage data: print_lowest_data\n",
    "'''"
   ]
  },
  {
   "cell_type": "code",
   "execution_count": 71,
   "metadata": {},
   "outputs": [
    {
     "data": {
      "text/html": [
       "<div>\n",
       "<style scoped>\n",
       "    .dataframe tbody tr th:only-of-type {\n",
       "        vertical-align: middle;\n",
       "    }\n",
       "\n",
       "    .dataframe tbody tr th {\n",
       "        vertical-align: top;\n",
       "    }\n",
       "\n",
       "    .dataframe thead th {\n",
       "        text-align: right;\n",
       "    }\n",
       "</style>\n",
       "<table border=\"1\" class=\"dataframe\">\n",
       "  <thead>\n",
       "    <tr style=\"text-align: right;\">\n",
       "      <th></th>\n",
       "      <th>Name</th>\n",
       "      <th>Poverty Percent, Age 0-17</th>\n",
       "      <th>Poverty Estimate, Age 0-17</th>\n",
       "      <th>Median Household Income</th>\n",
       "    </tr>\n",
       "  </thead>\n",
       "  <tbody>\n",
       "    <tr>\n",
       "      <th>2298</th>\n",
       "      <td>Chester County</td>\n",
       "      <td>7.5</td>\n",
       "      <td>8822</td>\n",
       "      <td>92551</td>\n",
       "    </tr>\n",
       "  </tbody>\n",
       "</table>\n",
       "</div>"
      ],
      "text/plain": [
       "                Name Poverty Percent, Age 0-17 Poverty Estimate, Age 0-17  \\\n",
       "2298  Chester County                       7.5                       8822   \n",
       "\n",
       "     Median Household Income  \n",
       "2298                   92551  "
      ]
     },
     "execution_count": 71,
     "metadata": {},
     "output_type": "execute_result"
    }
   ],
   "source": [
    "#Create a function for the lowest percentage data: print_lowest_data\n",
    "def print_lowest_data():\n",
    "    lowest_data = print_data()\n",
    "     #get the lowest poverity out Poverty Percent, Age 0-17 column\n",
    "    lowest_poverity = lowest_data[lowest_data['Poverty Percent, Age 0-17'] == lowest_data['Poverty Percent, Age 0-17'].min()]\n",
    "    return lowest_poverity[['Name','Poverty Percent, Age 0-17','Poverty Estimate, Age 0-17','Median Household Income']]\n",
    "print_lowest_data()"
   ]
  },
  {
   "cell_type": "code",
   "execution_count": null,
   "metadata": {},
   "outputs": [],
   "source": [
    "'''\n",
    "Loop to continually prompt for a county and print its name, percentage, count of children\n",
    "in poverty and the median household income. The entered value should not be case\n",
    "sensitive and only the county name is used, i.e. entering “chester” or “Chester” gets the\n",
    "data for Chester County (that is, you don’t search using “Chester County”). Re-prompt if\n",
    "county is not found. Type ‘q’ or ‘quit’ in any case to quit the loop\n",
    "'''"
   ]
  },
  {
   "cell_type": "code",
   "execution_count": 72,
   "metadata": {},
   "outputs": [],
   "source": [
    "#Create a function for the county data: print_county_data\n",
    "def PA_county_helper():\n",
    "    county_data = print_data()\n",
    "    for a in county_data['Name']:\n",
    "        county_data.set_index('Name', drop=True, append=False, inplace=False, verify_integrity=False)\n",
    "        county_data_info = county_data[['Name','Poverty Percent, Age 0-17','Poverty Estimate, Age 0-17','Median Household Income']]  \n",
    "        Name_of_county = county_data_info['Name'].str.split(\" \", n = 1, expand = True)\n",
    "        county_data_info.insert(loc=0, column='County Name', value=Name_of_county[0])\n",
    "    return county_data_info"
   ]
  },
  {
   "cell_type": "code",
   "execution_count": 60,
   "metadata": {},
   "outputs": [
    {
     "name": "stdout",
     "output_type": "stream",
     "text": [
      "Please select a PA county to display it's info:Forest\n",
      "+------+---------------+-----------------------------+------------------------------+---------------------------+\n",
      "|      | Name          |   Poverty Percent, Age 0-17 |   Poverty Estimate, Age 0-17 |   Median Household Income |\n",
      "|------+---------------+-----------------------------+------------------------------+---------------------------|\n",
      "| 2310 | Forest County |                        57.1 |                          124 |                     38819 |\n",
      "+------+---------------+-----------------------------+------------------------------+---------------------------+\n",
      "Please enter \"y or Yes\" to continue fetching the PA county info, if not Type ‘q’ or ‘quit’:y\n",
      "Please select a PA county to display it's info:adams\n",
      "+------+--------------+-----------------------------+------------------------------+---------------------------+\n",
      "|      | Name         |   Poverty Percent, Age 0-17 |   Poverty Estimate, Age 0-17 |   Median Household Income |\n",
      "|------+--------------+-----------------------------+------------------------------+---------------------------|\n",
      "| 2284 | Adams County |                          14 |                         2823 |                     59645 |\n",
      "+------+--------------+-----------------------------+------------------------------+---------------------------+\n",
      "Please enter \"y or Yes\" to continue fetching the PA county info, if not Type ‘q’ or ‘quit’:no\n",
      "Thank you for visiting us! \n",
      "\n"
     ]
    }
   ],
   "source": [
    "#Loop to continually prompt for a county and print its name, percentage, \n",
    "#count of children in poverty and the median household income\n",
    "def print_county_data(county):\n",
    "    #remove extra white space and lower the case of the user input\n",
    "    counties_userinput = county.lower().strip()\n",
    "    #load counties info from function print_PA_county_data\n",
    "    PA_counties_list = PA_county_helper()\n",
    "    #get the name of the county\n",
    "    Name_of_counties = PA_counties_list['Name']\n",
    "    #iterate the lists \n",
    "    lists_of_county_name =[i.split(' ', 1)[0] for i in Name_of_counties]\n",
    "    \n",
    "    #boolean if the county is found\n",
    "    is_County_Found = False\n",
    "    #for loof to iterate in each county\n",
    "    for a in lists_of_county_name:    \n",
    "        #compare the user input county, if found continue\n",
    "        if a.lower() == counties_userinput:\n",
    "            #get the counties info \n",
    "            counties_info = PA_counties_list.loc[PA_counties_list['County Name'].str.lower() == counties_userinput]\n",
    "            #remove unnecessary column \n",
    "            PA_counties_infos = counties_info.drop(['County Name'], axis=1)\n",
    "            #print out the result in tabulate form(making it clean table)\n",
    "            print(tabulate(PA_counties_infos, headers='keys', tablefmt='psql'))\n",
    "            is_County_Found = True\n",
    "            #if the county is found break, if not the isCounty will be false\n",
    "            break\n",
    "    #print out the county is not found message\n",
    "    if(is_County_Found==False):\n",
    "        print('the county is not in the PA state.....')\n",
    "    \n",
    "    #redo all the steps if the user asks to fetch the county info\n",
    "    check_user_input = input('Please enter \"y or Yes\" to continue fetching the PA county info, if not Type ‘q’ or ‘quit’:')\n",
    "    lower_user_input = check_user_input.lower()\n",
    "    if lower_user_input =='y' or lower_user_input == 'yes':\n",
    "        user_input = input(\"Please select a PA county to display it's info:\")\n",
    "        print_county_data(user_input)\n",
    "    elif lower_user_input !='y':\n",
    "        print('Thank you for visiting us! \\n')\n",
    "#test the function by passing a userinput\n",
    "user_input = input(\"Please select a PA county to display it's info:\")\n",
    "print_county_data(user_input)"
   ]
  },
  {
   "cell_type": "markdown",
   "metadata": {},
   "source": [
    "# Descriptive Statistics "
   ]
  },
  {
   "cell_type": "code",
   "execution_count": null,
   "metadata": {},
   "outputs": [],
   "source": [
    "'''\n",
    "Descriptive statistics helps us to inform the about the data and analysis and to get insights to explore features of the data.\n",
    "'''"
   ]
  },
  {
   "cell_type": "code",
   "execution_count": 37,
   "metadata": {},
   "outputs": [
    {
     "data": {
      "text/html": [
       "<div>\n",
       "<style scoped>\n",
       "    .dataframe tbody tr th:only-of-type {\n",
       "        vertical-align: middle;\n",
       "    }\n",
       "\n",
       "    .dataframe tbody tr th {\n",
       "        vertical-align: top;\n",
       "    }\n",
       "\n",
       "    .dataframe thead th {\n",
       "        text-align: right;\n",
       "    }\n",
       "</style>\n",
       "<table border=\"1\" class=\"dataframe\">\n",
       "  <thead>\n",
       "    <tr style=\"text-align: right;\">\n",
       "      <th></th>\n",
       "      <th>Name</th>\n",
       "      <th>Poverty Percent, Age 0-17</th>\n",
       "      <th>Poverty Estimate, Age 0-17</th>\n",
       "      <th>Median Household Income</th>\n",
       "    </tr>\n",
       "  </thead>\n",
       "  <tbody>\n",
       "    <tr>\n",
       "      <th>2284</th>\n",
       "      <td>Adams County</td>\n",
       "      <td>14</td>\n",
       "      <td>2823</td>\n",
       "      <td>59645</td>\n",
       "    </tr>\n",
       "    <tr>\n",
       "      <th>2285</th>\n",
       "      <td>Allegheny County</td>\n",
       "      <td>15.2</td>\n",
       "      <td>34743</td>\n",
       "      <td>56099</td>\n",
       "    </tr>\n",
       "    <tr>\n",
       "      <th>2286</th>\n",
       "      <td>Armstrong County</td>\n",
       "      <td>19.5</td>\n",
       "      <td>2443</td>\n",
       "      <td>46968</td>\n",
       "    </tr>\n",
       "    <tr>\n",
       "      <th>2287</th>\n",
       "      <td>Beaver County</td>\n",
       "      <td>15.5</td>\n",
       "      <td>5035</td>\n",
       "      <td>54715</td>\n",
       "    </tr>\n",
       "    <tr>\n",
       "      <th>2288</th>\n",
       "      <td>Bedford County</td>\n",
       "      <td>17.3</td>\n",
       "      <td>1642</td>\n",
       "      <td>44834</td>\n",
       "    </tr>\n",
       "  </tbody>\n",
       "</table>\n",
       "</div>"
      ],
      "text/plain": [
       "                  Name Poverty Percent, Age 0-17 Poverty Estimate, Age 0-17  \\\n",
       "2284      Adams County                        14                       2823   \n",
       "2285  Allegheny County                      15.2                      34743   \n",
       "2286  Armstrong County                      19.5                       2443   \n",
       "2287     Beaver County                      15.5                       5035   \n",
       "2288    Bedford County                      17.3                       1642   \n",
       "\n",
       "     Median Household Income  \n",
       "2284                   59645  \n",
       "2285                   56099  \n",
       "2286                   46968  \n",
       "2287                   54715  \n",
       "2288                   44834  "
      ]
     },
     "execution_count": 37,
     "metadata": {},
     "output_type": "execute_result"
    }
   ],
   "source": [
    "PA_counties_info = PA_county_helper().drop(['County Name'], axis=1)\n",
    "PA_counties_info.head()"
   ]
  },
  {
   "cell_type": "code",
   "execution_count": 38,
   "metadata": {},
   "outputs": [
    {
     "name": "stdout",
     "output_type": "stream",
     "text": [
      "<class 'pandas.core.frame.DataFrame'>\n",
      "Int64Index: 67 entries, 2284 to 2350\n",
      "Data columns (total 4 columns):\n",
      "Name                          67 non-null object\n",
      "Poverty Percent, Age 0-17     67 non-null object\n",
      "Poverty Estimate, Age 0-17    67 non-null object\n",
      "Median Household Income       67 non-null object\n",
      "dtypes: object(4)\n",
      "memory usage: 2.6+ KB\n"
     ]
    }
   ],
   "source": [
    "#PA counties info\n",
    "PA_counties_info.info()"
   ]
  },
  {
   "cell_type": "raw",
   "metadata": {},
   "source": [
    "#Mean"
   ]
  },
  {
   "cell_type": "code",
   "execution_count": 39,
   "metadata": {},
   "outputs": [
    {
     "name": "stdout",
     "output_type": "stream",
     "text": [
      "Mean of Poverty Percent, Age 0-17 for PA county:  19.19701492537313\n",
      "Mean of Poverty Estimate, Age 0-17 for PA county:  7198.432835820896\n",
      "Mean of Median Household Income for PA county:  52552.522388059704\n"
     ]
    }
   ],
   "source": [
    "# Get the mean of each column\n",
    "print(\"Mean of Poverty Percent, Age 0-17 for PA county: \", PA_counties_info['Poverty Percent, Age 0-17'].mean())\n",
    "print(\"Mean of Poverty Estimate, Age 0-17 for PA county: \", PA_counties_info['Poverty Estimate, Age 0-17'].mean())\n",
    "print(\"Mean of Median Household Income for PA county: \", PA_counties_info['Median Household Income'].mean())"
   ]
  },
  {
   "cell_type": "raw",
   "metadata": {},
   "source": [
    "#Median"
   ]
  },
  {
   "cell_type": "code",
   "execution_count": 40,
   "metadata": {},
   "outputs": [
    {
     "name": "stdout",
     "output_type": "stream",
     "text": [
      "Median  of Poverty Percent, Age 0-17 for PA county:  18.8\n",
      "Median  of Poverty Estimate, Age 0-17 for PA county:  3215.0\n",
      "Median of Median Household Income for PA county:  49274.0\n"
     ]
    }
   ],
   "source": [
    "# Get the Median  of each column\n",
    "print(\"Median  of Poverty Percent, Age 0-17 for PA county: \", PA_counties_info['Poverty Percent, Age 0-17'].median())\n",
    "print(\"Median  of Poverty Estimate, Age 0-17 for PA county: \", PA_counties_info['Poverty Estimate, Age 0-17'].median())\n",
    "print(\"Median of Median Household Income for PA county: \", PA_counties_info['Median Household Income'].median())"
   ]
  },
  {
   "cell_type": "raw",
   "metadata": {},
   "source": [
    "#Variance "
   ]
  },
  {
   "cell_type": "code",
   "execution_count": 41,
   "metadata": {},
   "outputs": [
    {
     "name": "stdout",
     "output_type": "stream",
     "text": [
      "Variance  of Poverty Percent, Age 0-17 for PA county:  49.36847580280416\n",
      "Variance  of Poverty Estimate, Age 0-17 for PA county:  254807833.734057\n",
      "Variance of Median Household Income for PA county:  105657246.43509725\n"
     ]
    }
   ],
   "source": [
    "# Get the Variance  of each column\n",
    "print(\"Variance  of Poverty Percent, Age 0-17 for PA county: \", PA_counties_info['Poverty Percent, Age 0-17'].var())\n",
    "print(\"Variance  of Poverty Estimate, Age 0-17 for PA county: \", PA_counties_info['Poverty Estimate, Age 0-17'].var())\n",
    "print(\"Variance of Median Household Income for PA county: \", PA_counties_info['Median Household Income'].var())"
   ]
  },
  {
   "cell_type": "raw",
   "metadata": {},
   "source": [
    "#Standard deviation "
   ]
  },
  {
   "cell_type": "code",
   "execution_count": 42,
   "metadata": {},
   "outputs": [
    {
     "name": "stdout",
     "output_type": "stream",
     "text": [
      "Standard deviation of Poverty Percent, Age 0-17 for PA county:  7.026270404902174\n",
      "Standard deviation of Poverty Estimate, Age 0-17 for PA county:  15962.701329476067\n",
      "Standard deviation of Median Household Income for PA county:  10278.971078619554\n"
     ]
    }
   ],
   "source": [
    "# Get the Variance  of each column\n",
    "print(\"Standard deviation of Poverty Percent, Age 0-17 for PA county: \", PA_counties_info['Poverty Percent, Age 0-17'].std())\n",
    "print(\"Standard deviation of Poverty Estimate, Age 0-17 for PA county: \", PA_counties_info['Poverty Estimate, Age 0-17'].std())\n",
    "print(\"Standard deviation of Median Household Income for PA county: \", PA_counties_info['Median Household Income'].std())"
   ]
  },
  {
   "cell_type": "code",
   "execution_count": 43,
   "metadata": {},
   "outputs": [
    {
     "data": {
      "text/plain": [
       "2.4524296137057617"
      ]
     },
     "execution_count": 43,
     "metadata": {},
     "output_type": "execute_result"
    }
   ],
   "source": [
    "PA_counties_info[\"Poverty Percent, Age 0-17\"].skew()"
   ]
  },
  {
   "cell_type": "code",
   "execution_count": 44,
   "metadata": {},
   "outputs": [
    {
     "data": {
      "text/plain": [
       "Name                          object\n",
       "Poverty Percent, Age 0-17     object\n",
       "Poverty Estimate, Age 0-17    object\n",
       "Median Household Income       object\n",
       "dtype: object"
      ]
     },
     "execution_count": 44,
     "metadata": {},
     "output_type": "execute_result"
    }
   ],
   "source": [
    "# what are their types\n",
    "PA_counties_info.dtypes"
   ]
  },
  {
   "cell_type": "code",
   "execution_count": 45,
   "metadata": {},
   "outputs": [
    {
     "data": {
      "text/html": [
       "<div>\n",
       "<style scoped>\n",
       "    .dataframe tbody tr th:only-of-type {\n",
       "        vertical-align: middle;\n",
       "    }\n",
       "\n",
       "    .dataframe tbody tr th {\n",
       "        vertical-align: top;\n",
       "    }\n",
       "\n",
       "    .dataframe thead th {\n",
       "        text-align: right;\n",
       "    }\n",
       "</style>\n",
       "<table border=\"1\" class=\"dataframe\">\n",
       "  <thead>\n",
       "    <tr style=\"text-align: right;\">\n",
       "      <th></th>\n",
       "      <th>Name</th>\n",
       "      <th>Poverty Percent, Age 0-17</th>\n",
       "      <th>Poverty Estimate, Age 0-17</th>\n",
       "      <th>Median Household Income</th>\n",
       "    </tr>\n",
       "  </thead>\n",
       "  <tbody>\n",
       "    <tr>\n",
       "      <th>count</th>\n",
       "      <td>67</td>\n",
       "      <td>67.0</td>\n",
       "      <td>67</td>\n",
       "      <td>67</td>\n",
       "    </tr>\n",
       "    <tr>\n",
       "      <th>unique</th>\n",
       "      <td>67</td>\n",
       "      <td>57.0</td>\n",
       "      <td>67</td>\n",
       "      <td>67</td>\n",
       "    </tr>\n",
       "    <tr>\n",
       "      <th>top</th>\n",
       "      <td>Delaware County</td>\n",
       "      <td>14.1</td>\n",
       "      <td>19967</td>\n",
       "      <td>44670</td>\n",
       "    </tr>\n",
       "    <tr>\n",
       "      <th>freq</th>\n",
       "      <td>1</td>\n",
       "      <td>4.0</td>\n",
       "      <td>1</td>\n",
       "      <td>1</td>\n",
       "    </tr>\n",
       "  </tbody>\n",
       "</table>\n",
       "</div>"
      ],
      "text/plain": [
       "                   Name  Poverty Percent, Age 0-17  \\\n",
       "count                67                       67.0   \n",
       "unique               67                       57.0   \n",
       "top     Delaware County                       14.1   \n",
       "freq                  1                        4.0   \n",
       "\n",
       "        Poverty Estimate, Age 0-17  Median Household Income  \n",
       "count                           67                       67  \n",
       "unique                          67                       67  \n",
       "top                          19967                    44670  \n",
       "freq                             1                        1  "
      ]
     },
     "execution_count": 45,
     "metadata": {},
     "output_type": "execute_result"
    }
   ],
   "source": [
    "PA_counties_info.describe() "
   ]
  },
  {
   "cell_type": "code",
   "execution_count": 46,
   "metadata": {},
   "outputs": [
    {
     "name": "stdout",
     "output_type": "stream",
     "text": [
      "Max values \n",
      " Name                          York County\n",
      "Poverty Percent, Age 0-17            57.1\n",
      "Poverty Estimate, Age 0-17         126144\n",
      "Median Household Income             92551\n",
      "dtype: object\n",
      "Min values \n",
      " Name                          Adams County\n",
      "Poverty Percent, Age 0-17              7.5\n",
      "Poverty Estimate, Age 0-17             124\n",
      "Median Household Income              38819\n",
      "dtype: object\n"
     ]
    }
   ],
   "source": [
    "#determine the min and max value of each feature\n",
    "print('Max values \\n', PA_counties_info.max())\n",
    "print('Min values \\n', PA_counties_info.min())"
   ]
  },
  {
   "cell_type": "code",
   "execution_count": 47,
   "metadata": {},
   "outputs": [
    {
     "data": {
      "text/html": [
       "<div>\n",
       "<style scoped>\n",
       "    .dataframe tbody tr th:only-of-type {\n",
       "        vertical-align: middle;\n",
       "    }\n",
       "\n",
       "    .dataframe tbody tr th {\n",
       "        vertical-align: top;\n",
       "    }\n",
       "\n",
       "    .dataframe thead th {\n",
       "        text-align: right;\n",
       "    }\n",
       "</style>\n",
       "<table border=\"1\" class=\"dataframe\">\n",
       "  <thead>\n",
       "    <tr style=\"text-align: right;\">\n",
       "      <th></th>\n",
       "      <th>Poverty %</th>\n",
       "      <th>Poverity Est</th>\n",
       "      <th>Median</th>\n",
       "    </tr>\n",
       "    <tr>\n",
       "      <th>Name</th>\n",
       "      <th></th>\n",
       "      <th></th>\n",
       "      <th></th>\n",
       "    </tr>\n",
       "  </thead>\n",
       "  <tbody>\n",
       "    <tr>\n",
       "      <th>Adams County</th>\n",
       "      <td>14</td>\n",
       "      <td>2823</td>\n",
       "      <td>59645</td>\n",
       "    </tr>\n",
       "    <tr>\n",
       "      <th>Allegheny County</th>\n",
       "      <td>15.2</td>\n",
       "      <td>34743</td>\n",
       "      <td>56099</td>\n",
       "    </tr>\n",
       "    <tr>\n",
       "      <th>Armstrong County</th>\n",
       "      <td>19.5</td>\n",
       "      <td>2443</td>\n",
       "      <td>46968</td>\n",
       "    </tr>\n",
       "    <tr>\n",
       "      <th>Beaver County</th>\n",
       "      <td>15.5</td>\n",
       "      <td>5035</td>\n",
       "      <td>54715</td>\n",
       "    </tr>\n",
       "    <tr>\n",
       "      <th>Bedford County</th>\n",
       "      <td>17.3</td>\n",
       "      <td>1642</td>\n",
       "      <td>44834</td>\n",
       "    </tr>\n",
       "  </tbody>\n",
       "</table>\n",
       "</div>"
      ],
      "text/plain": [
       "                 Poverty % Poverity Est Median\n",
       "Name                                          \n",
       "Adams County            14         2823  59645\n",
       "Allegheny County      15.2        34743  56099\n",
       "Armstrong County      19.5         2443  46968\n",
       "Beaver County         15.5         5035  54715\n",
       "Bedford County        17.3         1642  44834"
      ]
     },
     "execution_count": 47,
     "metadata": {},
     "output_type": "execute_result"
    }
   ],
   "source": [
    "#cleaning data for analysis\n",
    "PA_counties_datas = PA_county_helper().drop(['County Name'], axis=1)\n",
    "column_rename_PA = PA_counties_datas.rename(index=str, \n",
    "                                            columns={\"Poverty Percent, Age 0-17\": \"Poverty %\", \n",
    "                                                     \"Poverty Estimate, Age 0-17\": \"Poverity Est\", \n",
    "                                                     \"Median Household Income\":\"Median\"})\n",
    "\n",
    "PA_counties_datas_clean = column_rename_PA.set_index('Name')\n",
    "PA_counties_datas_clean.head()"
   ]
  },
  {
   "cell_type": "raw",
   "metadata": {},
   "source": [
    "#Top 10 highest annual median, under poverity anf highest of poverity estimate in PA"
   ]
  },
  {
   "cell_type": "code",
   "execution_count": 48,
   "metadata": {},
   "outputs": [
    {
     "name": "stdout",
     "output_type": "stream",
     "text": [
      "Top 10 highest annual median in PA\n",
      "+--------------------+-------------+----------------+----------+\n",
      "| Name               |   Poverty % |   Poverity Est |   Median |\n",
      "|--------------------+-------------+----------------+----------|\n",
      "| Chester County     |         7.5 |           8822 |    92551 |\n",
      "| Montgomery County  |         7.8 |          13638 |    84156 |\n",
      "| Bucks County       |         8   |          10312 |    80132 |\n",
      "| Delaware County    |        15.4 |          18912 |    67773 |\n",
      "| Butler County      |         8.9 |           3308 |    66277 |\n",
      "| Northampton County |        14.1 |           8463 |    65730 |\n",
      "| Cumberland County  |        10.5 |           5234 |    64116 |\n",
      "| York County        |        13.6 |          13140 |    62305 |\n",
      "| Lancaster County   |        15.8 |          19967 |    61347 |\n",
      "| Lehigh County      |        20.4 |          16518 |    60243 |\n",
      "+--------------------+-------------+----------------+----------+\n",
      "\n",
      "\n",
      "Top 10 counties under poverity in PA\n",
      "+---------------------+-------------+----------------+----------+\n",
      "| Name                |   Poverty % |   Poverity Est |   Median |\n",
      "|---------------------+-------------+----------------+----------|\n",
      "| Forest County       |        57.1 |            124 |    38819 |\n",
      "| Philadelphia County |        37.2 |         126144 |    41514 |\n",
      "| Fayette County      |        28.6 |           7212 |    42056 |\n",
      "| Mc Kean County      |        26.8 |           2128 |    43082 |\n",
      "| Warren County       |        26.1 |           1984 |    43896 |\n",
      "| Mercer County       |        26   |           5582 |    49187 |\n",
      "| Indiana County      |        24.9 |           3818 |    43171 |\n",
      "| Cameron County      |        24.3 |            192 |    39069 |\n",
      "| Potter County       |        24.1 |            830 |    44267 |\n",
      "| Erie County         |        24   |          14063 |    48820 |\n",
      "+---------------------+-------------+----------------+----------+\n",
      "\n",
      "\n",
      "Top 10 counties with highest of poverity estimate in PA\n",
      "+---------------------+-------------+----------------+----------+\n",
      "| Name                |   Poverty % |   Poverity Est |   Median |\n",
      "|---------------------+-------------+----------------+----------|\n",
      "| Philadelphia County |        37.2 |         126144 |    41514 |\n",
      "| Allegheny County    |        15.2 |          34743 |    56099 |\n",
      "| Lancaster County    |        15.8 |          19967 |    61347 |\n",
      "| Delaware County     |        15.4 |          18912 |    67773 |\n",
      "| Berks County        |        19.9 |          18364 |    59205 |\n",
      "| Lehigh County       |        20.4 |          16518 |    60243 |\n",
      "| Luzerne County      |        23.4 |          14243 |    46452 |\n",
      "| Erie County         |        24   |          14063 |    48820 |\n",
      "| Montgomery County   |         7.8 |          13638 |    84156 |\n",
      "| York County         |        13.6 |          13140 |    62305 |\n",
      "+---------------------+-------------+----------------+----------+\n"
     ]
    }
   ],
   "source": [
    "PA_counties_Median = PA_counties_datas_clean.sort_values('Median', ascending=False)\n",
    "PA_counties_Poverty = PA_counties_datas_clean.sort_values('Poverty %', ascending=False)\n",
    "PA_counties_Poverty_Estimate = PA_counties_datas_clean.sort_values('Poverity Est', ascending=False)\n",
    "print('Top 10 highest annual median in PA')\n",
    "print(tabulate(PA_counties_Median.head(10), headers='keys', tablefmt='psql'))\n",
    "print('\\n')\n",
    "print('Top 10 counties under poverity in PA')\n",
    "print(tabulate(PA_counties_Poverty.head(10), headers='keys', tablefmt='psql'))\n",
    "print('\\n')\n",
    "print('Top 10 counties with highest of poverity estimate in PA')\n",
    "print(tabulate(PA_counties_Poverty_Estimate.head(10), headers='keys', tablefmt='psql'))"
   ]
  },
  {
   "cell_type": "markdown",
   "metadata": {},
   "source": [
    "# Data Visualization"
   ]
  },
  {
   "cell_type": "code",
   "execution_count": 49,
   "metadata": {},
   "outputs": [
    {
     "data": {
      "text/plain": [
       "<matplotlib.axes._subplots.AxesSubplot at 0x1bccad29748>"
      ]
     },
     "execution_count": 49,
     "metadata": {},
     "output_type": "execute_result"
    },
    {
     "data": {
      "image/png": "[encoded data removed]",
      "text/plain": [
       "<Figure size 432x288 with 1 Axes>"
      ]
     },
     "metadata": {
      "needs_background": "light"
     },
     "output_type": "display_data"
    }
   ],
   "source": [
    "#Skewness for Poverty Percent, Age 0-17 of all counties\n",
    "Poverty_Percent = PA_counties_info['Poverty Percent, Age 0-17']\n",
    "skewed_data = PA_counties_info[\"Poverty Percent, Age 0-17\"].skew()\n",
    "uniform_data = np.random.uniform(0,2, size=67)\n",
    "\n",
    "data_df = pd.DataFrame({\"Poverty %\":Poverty_Percent,\n",
    "                       \"Skewed\":skewed_data,\n",
    "                       \"Uniform\":uniform_data})\n",
    "data_df.plot()"
   ]
  },
  {
   "cell_type": "code",
   "execution_count": 59,
   "metadata": {},
   "outputs": [
    {
     "data": {
      "text/plain": [
       "<matplotlib.axes._subplots.AxesSubplot at 0x1bccb4e8908>"
      ]
     },
     "execution_count": 59,
     "metadata": {},
     "output_type": "execute_result"
    },
    {
     "data": {
      "image/png": "[encoded data removed]",
      "text/plain": [
       "<Figure size 432x288 with 1 Axes>"
      ]
     },
     "metadata": {
      "needs_background": "light"
     },
     "output_type": "display_data"
    }
   ],
   "source": [
    "#box and whisker plots for Median Household Income of PA county\n",
    "Median_PA_counties =PA_counties_info[['Median Household Income']]\n",
    "Median_PA_counties.plot(kind='box')"
   ]
  },
  {
   "cell_type": "code",
   "execution_count": 56,
   "metadata": {},
   "outputs": [
    {
     "data": {
      "text/plain": [
       "Text(0.5, 1.0, 'Median income of the top 25 counties in PA ')"
      ]
     },
     "execution_count": 56,
     "metadata": {},
     "output_type": "execute_result"
    },
    {
     "data": {
      "image/png": "[encoded data removed]",
      "text/plain": [
       "<Figure size 720x504 with 1 Axes>"
      ]
     },
     "metadata": {
      "needs_background": "light"
     },
     "output_type": "display_data"
    }
   ],
   "source": [
    "#Median income of the top 25 counties in PA\n",
    "PA_county_data_1 = PA_county_helper()\n",
    "PA_county_data_1.sort_values('Median Household Income')\n",
    "plt.figure(figsize=(10,7))\n",
    "ax =sns.barplot(x=PA_county_data_1['Name'][:25] ,y=PA_county_data_1['Median Household Income'][:25])\n",
    "ax.set_xticklabels(ax.get_xticklabels(),rotation=45)\n",
    "plt.xlabel('County Name')\n",
    "plt.ylabel('Median Household Income')\n",
    "plt.title('Median income of the top 25 counties in PA ',color = 'blue',fontsize=15)"
   ]
  },
  {
   "cell_type": "code",
   "execution_count": 58,
   "metadata": {},
   "outputs": [
    {
     "data": {
      "image/png": "[encoded data removed]",
      "text/plain": [
       "<Figure size 432x288 with 1 Axes>"
      ]
     },
     "metadata": {
      "needs_background": "light"
     },
     "output_type": "display_data"
    }
   ],
   "source": [
    "#Let’s see the distribution of Median Household Income for PA counties\n",
    "PA_counties_data = PA_county_helper()\n",
    "mean_Median_Income =PA_counties_data['Median Household Income'].mean()\n",
    "std_Median_Income =PA_counties_data['Median Household Income'].std()\n",
    "mu, sigma = mean_Median_Income, std_Median_Income\n",
    "s = np.random.normal(mu, sigma, 1000)\n",
    "\n",
    "# Create the bins and histogram\n",
    "count, bins, ignored = plt.hist(s, 20, density=True)\n",
    "# Plot the distribution curve\n",
    "plt.plot(bins, 1/(sigma * np.sqrt(2 * np.pi)) *\n",
    "    np.exp( - (bins - mu)**2 / (2 * sigma**2) ),       linewidth=3, color='y')\n",
    "plt.xlabel('Median Household Income')\n",
    "plt.show()"
   ]
  },
  {
   "cell_type": "code",
   "execution_count": 54,
   "metadata": {},
   "outputs": [
    {
     "data": {
      "image/png": "[encoded data removed]",
      "text/plain": [
       "<Figure size 432x288 with 1 Axes>"
      ]
     },
     "metadata": {
      "needs_background": "light"
     },
     "output_type": "display_data"
    }
   ],
   "source": [
    "#Draw an area plot based on datasets\n",
    "PA_counties_data.plot.area(stacked=False)\n",
    "plt.show()"
   ]
  },
  {
   "cell_type": "code",
   "execution_count": 55,
   "metadata": {},
   "outputs": [
    {
     "data": {
      "image/png": "[encoded data removed]",
      "text/plain": [
       "<Figure size 432x288 with 1 Axes>"
      ]
     },
     "metadata": {
      "needs_background": "light"
     },
     "output_type": "display_data"
    }
   ],
   "source": [
    "#top 10 highest median plot\n",
    "PA_counties_data.sort_values(by=['Median Household Income'])\n",
    "PA_counties_data['Median Household Income'][:10].plot(kind='barh') \n",
    "plt.show()"
   ]
  },
  {
   "cell_type": "code",
   "execution_count": null,
   "metadata": {},
   "outputs": [],
   "source": []
  }
 ],
 "metadata": {
  "kernelspec": {
   "display_name": "Python 3",
   "language": "python",
   "name": "python3"
  },
  "language_info": {
   "codemirror_mode": {
    "name": "ipython",
    "version": 3
   },
   "file_extension": ".py",
   "mimetype": "text/x-python",
   "name": "python",
   "nbconvert_exporter": "python",
   "pygments_lexer": "ipython3",
   "version": "3.7.1"
  }
 },
 "nbformat": 4,
 "nbformat_minor": 2
}
